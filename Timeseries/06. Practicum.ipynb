{
 "cells": [
  {
   "cell_type": "code",
   "execution_count": 6,
   "metadata": {
    "collapsed": false,
    "deletable": true,
    "editable": true
   },
   "outputs": [],
   "source": [
    "%matplotlib inline \n",
    "import matplotlib.pylab\n",
    "import numpy as np\n",
    "import pandas as pd\n"
   ]
  },
  {
   "cell_type": "markdown",
   "metadata": {
    "deletable": true,
    "editable": true
   },
   "source": [
    "### Let's find some time series data\n",
    "hint: http://pandas.pydata.org/pandas-docs/stable/remote_data.html"
   ]
  },
  {
   "cell_type": "code",
   "execution_count": 4,
   "metadata": {
    "collapsed": false,
    "deletable": true,
    "editable": true
   },
   "outputs": [],
   "source": [
    "import pandas_datareader as web\n",
    "start = pd.Timestamp('2010-1-1')\n",
    "end = pd.Timestamp('2013-1-27')\n",
    "f = web.DataReader(\"F\", 'yahoo', start, end)"
   ]
  },
  {
   "cell_type": "code",
   "execution_count": 5,
   "metadata": {
    "collapsed": false,
    "deletable": true,
    "editable": true
   },
   "outputs": [
    {
     "data": {
      "text/html": [
       "<div>\n",
       "<table border=\"1\" class=\"dataframe\">\n",
       "  <thead>\n",
       "    <tr style=\"text-align: right;\">\n",
       "      <th></th>\n",
       "      <th>Open</th>\n",
       "      <th>High</th>\n",
       "      <th>Low</th>\n",
       "      <th>Close</th>\n",
       "      <th>Volume</th>\n",
       "      <th>Adj Close</th>\n",
       "    </tr>\n",
       "    <tr>\n",
       "      <th>Date</th>\n",
       "      <th></th>\n",
       "      <th></th>\n",
       "      <th></th>\n",
       "      <th></th>\n",
       "      <th></th>\n",
       "      <th></th>\n",
       "    </tr>\n",
       "  </thead>\n",
       "  <tbody>\n",
       "    <tr>\n",
       "      <th>2010-01-04</th>\n",
       "      <td>10.17</td>\n",
       "      <td>10.28</td>\n",
       "      <td>10.05</td>\n",
       "      <td>10.28</td>\n",
       "      <td>60855800</td>\n",
       "      <td>8.306784</td>\n",
       "    </tr>\n",
       "    <tr>\n",
       "      <th>2010-01-05</th>\n",
       "      <td>10.45</td>\n",
       "      <td>11.24</td>\n",
       "      <td>10.40</td>\n",
       "      <td>10.96</td>\n",
       "      <td>215620200</td>\n",
       "      <td>8.856260</td>\n",
       "    </tr>\n",
       "    <tr>\n",
       "      <th>2010-01-06</th>\n",
       "      <td>11.21</td>\n",
       "      <td>11.46</td>\n",
       "      <td>11.13</td>\n",
       "      <td>11.37</td>\n",
       "      <td>200070600</td>\n",
       "      <td>9.187561</td>\n",
       "    </tr>\n",
       "    <tr>\n",
       "      <th>2010-01-07</th>\n",
       "      <td>11.46</td>\n",
       "      <td>11.69</td>\n",
       "      <td>11.32</td>\n",
       "      <td>11.66</td>\n",
       "      <td>130201700</td>\n",
       "      <td>9.421897</td>\n",
       "    </tr>\n",
       "    <tr>\n",
       "      <th>2010-01-08</th>\n",
       "      <td>11.67</td>\n",
       "      <td>11.74</td>\n",
       "      <td>11.46</td>\n",
       "      <td>11.69</td>\n",
       "      <td>130463000</td>\n",
       "      <td>9.446138</td>\n",
       "    </tr>\n",
       "  </tbody>\n",
       "</table>\n",
       "</div>"
      ],
      "text/plain": [
       "             Open   High    Low  Close     Volume  Adj Close\n",
       "Date                                                        \n",
       "2010-01-04  10.17  10.28  10.05  10.28   60855800   8.306784\n",
       "2010-01-05  10.45  11.24  10.40  10.96  215620200   8.856260\n",
       "2010-01-06  11.21  11.46  11.13  11.37  200070600   9.187561\n",
       "2010-01-07  11.46  11.69  11.32  11.66  130201700   9.421897\n",
       "2010-01-08  11.67  11.74  11.46  11.69  130463000   9.446138"
      ]
     },
     "execution_count": 5,
     "metadata": {},
     "output_type": "execute_result"
    }
   ],
   "source": [
    "f.head()"
   ]
  },
  {
   "cell_type": "code",
   "execution_count": 13,
   "metadata": {
    "collapsed": false,
    "deletable": true,
    "editable": true
   },
   "outputs": [
    {
     "data": {
      "text/plain": [
       "<matplotlib.axes._subplots.AxesSubplot at 0x11c639b38>"
      ]
     },
     "execution_count": 13,
     "metadata": {},
     "output_type": "execute_result"
    },
    {
     "data": {
      "image/png": "[encoded data removed]",
      "text/plain": [
       "<matplotlib.figure.Figure at 0x11c5f59e8>"
      ]
     },
     "metadata": {},
     "output_type": "display_data"
    }
   ],
   "source": [
    "f['2012-07-01':'2012-08-01'][['Low','High']].plot()"
   ]
  },
  {
   "cell_type": "code",
   "execution_count": 11,
   "metadata": {
    "collapsed": false,
    "deletable": true,
    "editable": true
   },
   "outputs": [
    {
     "data": {
      "text/plain": [
       "<matplotlib.axes._subplots.AxesSubplot at 0x1181be978>"
      ]
     },
     "execution_count": 11,
     "metadata": {},
     "output_type": "execute_result"
    },
    {
     "data": {
      "image/png": "[encoded data removed]",
      "text/plain": [
       "<matplotlib.figure.Figure at 0x10f8b36a0>"
      ]
     },
     "metadata": {},
     "output_type": "display_data"
    }
   ],
   "source": [
    "# %load snippets/prac1.py\n",
    "f['2012-07':'2012-08'][['High', 'Low']].plot()"
   ]
  },
  {
   "cell_type": "markdown",
   "metadata": {
    "deletable": true,
    "editable": true
   },
   "source": [
    "### Is the variance of the trading volume relatively stable over time?"
   ]
  },
  {
   "cell_type": "code",
   "execution_count": 17,
   "metadata": {
    "collapsed": false
   },
   "outputs": [
    {
     "data": {
      "text/plain": [
       "<matplotlib.axes._subplots.AxesSubplot at 0x11ca71a58>"
      ]
     },
     "execution_count": 17,
     "metadata": {},
     "output_type": "execute_result"
    },
    {
     "data": {
      "image/png": "[encoded data removed]",
      "text/plain": [
       "<matplotlib.figure.Figure at 0x11c5e36d8>"
      ]
     },
     "metadata": {},
     "output_type": "display_data"
    }
   ],
   "source": [
    "f.rolling(50).var()['Volume'].plot()"
   ]
  },
  {
   "cell_type": "markdown",
   "metadata": {
    "deletable": true,
    "editable": true
   },
   "source": [
    "### Is the expanding window variance of the trading volume relatively stable over time?"
   ]
  },
  {
   "cell_type": "code",
   "execution_count": 23,
   "metadata": {
    "collapsed": false
   },
   "outputs": [
    {
     "data": {
      "text/plain": [
       "<matplotlib.axes._subplots.AxesSubplot at 0x11ce5c630>"
      ]
     },
     "execution_count": 23,
     "metadata": {},
     "output_type": "execute_result"
    },
    {
     "data": {
      "image/png": "[encoded data removed]",
      "text/plain": [
       "<matplotlib.figure.Figure at 0x11ce4e438>"
      ]
     },
     "metadata": {},
     "output_type": "display_data"
    }
   ],
   "source": [
    "f.expanding(min_periods = 30).var()['Volume'].plot()\n",
    "# No "
   ]
  },
  {
   "cell_type": "code",
   "execution_count": null,
   "metadata": {
    "collapsed": false,
    "deletable": true,
    "editable": true
   },
   "outputs": [],
   "source": [
    "# %load snippets/prac3.py"
   ]
  },
  {
   "cell_type": "markdown",
   "metadata": {
    "deletable": true,
    "editable": true
   },
   "source": [
    "### On how many days did the stock close higher than it opened?\n",
    "\n",
    "Hint: check out .tshift() in the pandas docs\n",
    "http://pandas.pydata.org/pandas-docs/stable/timeseries.html#shifting-lagging"
   ]
  },
  {
   "cell_type": "code",
   "execution_count": 26,
   "metadata": {
    "collapsed": false
   },
   "outputs": [
    {
     "data": {
      "text/html": [
       "<div>\n",
       "<table border=\"1\" class=\"dataframe\">\n",
       "  <thead>\n",
       "    <tr style=\"text-align: right;\">\n",
       "      <th></th>\n",
       "      <th>Open</th>\n",
       "      <th>High</th>\n",
       "      <th>Low</th>\n",
       "      <th>Close</th>\n",
       "      <th>Volume</th>\n",
       "      <th>Adj Close</th>\n",
       "    </tr>\n",
       "    <tr>\n",
       "      <th>Date</th>\n",
       "      <th></th>\n",
       "      <th></th>\n",
       "      <th></th>\n",
       "      <th></th>\n",
       "      <th></th>\n",
       "      <th></th>\n",
       "    </tr>\n",
       "  </thead>\n",
       "  <tbody>\n",
       "    <tr>\n",
       "      <th>2010-01-04</th>\n",
       "      <td>NaN</td>\n",
       "      <td>NaN</td>\n",
       "      <td>NaN</td>\n",
       "      <td>NaN</td>\n",
       "      <td>NaN</td>\n",
       "      <td>NaN</td>\n",
       "    </tr>\n",
       "    <tr>\n",
       "      <th>2010-01-05</th>\n",
       "      <td>10.17</td>\n",
       "      <td>10.28</td>\n",
       "      <td>10.05</td>\n",
       "      <td>10.28</td>\n",
       "      <td>60855800.0</td>\n",
       "      <td>8.306784</td>\n",
       "    </tr>\n",
       "    <tr>\n",
       "      <th>2010-01-06</th>\n",
       "      <td>10.45</td>\n",
       "      <td>11.24</td>\n",
       "      <td>10.40</td>\n",
       "      <td>10.96</td>\n",
       "      <td>215620200.0</td>\n",
       "      <td>8.856260</td>\n",
       "    </tr>\n",
       "    <tr>\n",
       "      <th>2010-01-07</th>\n",
       "      <td>11.21</td>\n",
       "      <td>11.46</td>\n",
       "      <td>11.13</td>\n",
       "      <td>11.37</td>\n",
       "      <td>200070600.0</td>\n",
       "      <td>9.187561</td>\n",
       "    </tr>\n",
       "    <tr>\n",
       "      <th>2010-01-08</th>\n",
       "      <td>11.46</td>\n",
       "      <td>11.69</td>\n",
       "      <td>11.32</td>\n",
       "      <td>11.66</td>\n",
       "      <td>130201700.0</td>\n",
       "      <td>9.421897</td>\n",
       "    </tr>\n",
       "    <tr>\n",
       "      <th>2010-01-11</th>\n",
       "      <td>11.67</td>\n",
       "      <td>11.74</td>\n",
       "      <td>11.46</td>\n",
       "      <td>11.69</td>\n",
       "      <td>130463000.0</td>\n",
       "      <td>9.446138</td>\n",
       "    </tr>\n",
       "    <tr>\n",
       "      <th>2010-01-12</th>\n",
       "      <td>11.90</td>\n",
       "      <td>12.14</td>\n",
       "      <td>11.78</td>\n",
       "      <td>12.11</td>\n",
       "      <td>170626200.0</td>\n",
       "      <td>9.785520</td>\n",
       "    </tr>\n",
       "    <tr>\n",
       "      <th>2010-01-13</th>\n",
       "      <td>11.98</td>\n",
       "      <td>12.03</td>\n",
       "      <td>11.72</td>\n",
       "      <td>11.87</td>\n",
       "      <td>162995900.0</td>\n",
       "      <td>9.591588</td>\n",
       "    </tr>\n",
       "    <tr>\n",
       "      <th>2010-01-14</th>\n",
       "      <td>11.91</td>\n",
       "      <td>11.93</td>\n",
       "      <td>11.47</td>\n",
       "      <td>11.68</td>\n",
       "      <td>154527100.0</td>\n",
       "      <td>9.438058</td>\n",
       "    </tr>\n",
       "    <tr>\n",
       "      <th>2010-01-15</th>\n",
       "      <td>11.65</td>\n",
       "      <td>11.86</td>\n",
       "      <td>11.51</td>\n",
       "      <td>11.76</td>\n",
       "      <td>116531200.0</td>\n",
       "      <td>9.502702</td>\n",
       "    </tr>\n",
       "    <tr>\n",
       "      <th>2010-01-19</th>\n",
       "      <td>11.74</td>\n",
       "      <td>11.76</td>\n",
       "      <td>11.55</td>\n",
       "      <td>11.60</td>\n",
       "      <td>96149800.0</td>\n",
       "      <td>9.373414</td>\n",
       "    </tr>\n",
       "    <tr>\n",
       "      <th>2010-01-20</th>\n",
       "      <td>11.51</td>\n",
       "      <td>11.83</td>\n",
       "      <td>11.46</td>\n",
       "      <td>11.75</td>\n",
       "      <td>65934000.0</td>\n",
       "      <td>9.494622</td>\n",
       "    </tr>\n",
       "    <tr>\n",
       "      <th>2010-01-21</th>\n",
       "      <td>11.68</td>\n",
       "      <td>11.69</td>\n",
       "      <td>11.50</td>\n",
       "      <td>11.51</td>\n",
       "      <td>71649500.0</td>\n",
       "      <td>9.300689</td>\n",
       "    </tr>\n",
       "    <tr>\n",
       "      <th>2010-01-22</th>\n",
       "      <td>11.53</td>\n",
       "      <td>11.62</td>\n",
       "      <td>11.01</td>\n",
       "      <td>11.18</td>\n",
       "      <td>121451400.0</td>\n",
       "      <td>9.034032</td>\n",
       "    </tr>\n",
       "    <tr>\n",
       "      <th>2010-01-25</th>\n",
       "      <td>11.01</td>\n",
       "      <td>11.12</td>\n",
       "      <td>10.41</td>\n",
       "      <td>10.52</td>\n",
       "      <td>161530100.0</td>\n",
       "      <td>8.500717</td>\n",
       "    </tr>\n",
       "    <tr>\n",
       "      <th>2010-01-26</th>\n",
       "      <td>10.73</td>\n",
       "      <td>11.10</td>\n",
       "      <td>10.61</td>\n",
       "      <td>11.03</td>\n",
       "      <td>121621500.0</td>\n",
       "      <td>8.912823</td>\n",
       "    </tr>\n",
       "    <tr>\n",
       "      <th>2010-01-27</th>\n",
       "      <td>11.17</td>\n",
       "      <td>11.46</td>\n",
       "      <td>11.07</td>\n",
       "      <td>11.19</td>\n",
       "      <td>108250500.0</td>\n",
       "      <td>9.042112</td>\n",
       "    </tr>\n",
       "    <tr>\n",
       "      <th>2010-01-28</th>\n",
       "      <td>11.57</td>\n",
       "      <td>11.62</td>\n",
       "      <td>11.22</td>\n",
       "      <td>11.55</td>\n",
       "      <td>105091600.0</td>\n",
       "      <td>9.333011</td>\n",
       "    </tr>\n",
       "    <tr>\n",
       "      <th>2010-01-29</th>\n",
       "      <td>11.90</td>\n",
       "      <td>11.95</td>\n",
       "      <td>11.27</td>\n",
       "      <td>11.41</td>\n",
       "      <td>203320000.0</td>\n",
       "      <td>9.219883</td>\n",
       "    </tr>\n",
       "    <tr>\n",
       "      <th>2010-02-01</th>\n",
       "      <td>11.60</td>\n",
       "      <td>11.61</td>\n",
       "      <td>10.70</td>\n",
       "      <td>10.84</td>\n",
       "      <td>159741200.0</td>\n",
       "      <td>8.759294</td>\n",
       "    </tr>\n",
       "    <tr>\n",
       "      <th>2010-02-02</th>\n",
       "      <td>11.14</td>\n",
       "      <td>11.18</td>\n",
       "      <td>10.93</td>\n",
       "      <td>11.12</td>\n",
       "      <td>82748200.0</td>\n",
       "      <td>8.985548</td>\n",
       "    </tr>\n",
       "    <tr>\n",
       "      <th>2010-02-03</th>\n",
       "      <td>11.26</td>\n",
       "      <td>11.52</td>\n",
       "      <td>11.19</td>\n",
       "      <td>11.39</td>\n",
       "      <td>119714900.0</td>\n",
       "      <td>9.203723</td>\n",
       "    </tr>\n",
       "    <tr>\n",
       "      <th>2010-02-04</th>\n",
       "      <td>11.49</td>\n",
       "      <td>11.66</td>\n",
       "      <td>11.42</td>\n",
       "      <td>11.64</td>\n",
       "      <td>90125500.0</td>\n",
       "      <td>9.405736</td>\n",
       "    </tr>\n",
       "    <tr>\n",
       "      <th>2010-02-05</th>\n",
       "      <td>11.49</td>\n",
       "      <td>11.53</td>\n",
       "      <td>11.00</td>\n",
       "      <td>11.06</td>\n",
       "      <td>129792200.0</td>\n",
       "      <td>8.937065</td>\n",
       "    </tr>\n",
       "    <tr>\n",
       "      <th>2010-02-08</th>\n",
       "      <td>10.97</td>\n",
       "      <td>11.11</td>\n",
       "      <td>10.49</td>\n",
       "      <td>10.91</td>\n",
       "      <td>181535200.0</td>\n",
       "      <td>8.815857</td>\n",
       "    </tr>\n",
       "    <tr>\n",
       "      <th>2010-02-09</th>\n",
       "      <td>11.09</td>\n",
       "      <td>11.32</td>\n",
       "      <td>10.88</td>\n",
       "      <td>10.97</td>\n",
       "      <td>92031400.0</td>\n",
       "      <td>8.864341</td>\n",
       "    </tr>\n",
       "    <tr>\n",
       "      <th>2010-02-10</th>\n",
       "      <td>11.18</td>\n",
       "      <td>11.22</td>\n",
       "      <td>11.02</td>\n",
       "      <td>11.15</td>\n",
       "      <td>83207100.0</td>\n",
       "      <td>9.009789</td>\n",
       "    </tr>\n",
       "    <tr>\n",
       "      <th>2010-02-11</th>\n",
       "      <td>11.12</td>\n",
       "      <td>11.14</td>\n",
       "      <td>10.90</td>\n",
       "      <td>10.94</td>\n",
       "      <td>73395600.0</td>\n",
       "      <td>8.840098</td>\n",
       "    </tr>\n",
       "    <tr>\n",
       "      <th>2010-02-12</th>\n",
       "      <td>11.00</td>\n",
       "      <td>11.19</td>\n",
       "      <td>10.88</td>\n",
       "      <td>11.18</td>\n",
       "      <td>65116200.0</td>\n",
       "      <td>9.034032</td>\n",
       "    </tr>\n",
       "    <tr>\n",
       "      <th>2010-02-16</th>\n",
       "      <td>10.92</td>\n",
       "      <td>11.18</td>\n",
       "      <td>10.85</td>\n",
       "      <td>11.12</td>\n",
       "      <td>69465400.0</td>\n",
       "      <td>8.985548</td>\n",
       "    </tr>\n",
       "    <tr>\n",
       "      <th>...</th>\n",
       "      <td>...</td>\n",
       "      <td>...</td>\n",
       "      <td>...</td>\n",
       "      <td>...</td>\n",
       "      <td>...</td>\n",
       "      <td>...</td>\n",
       "    </tr>\n",
       "    <tr>\n",
       "      <th>2012-12-12</th>\n",
       "      <td>11.51</td>\n",
       "      <td>11.58</td>\n",
       "      <td>11.40</td>\n",
       "      <td>11.49</td>\n",
       "      <td>36326900.0</td>\n",
       "      <td>9.457895</td>\n",
       "    </tr>\n",
       "    <tr>\n",
       "      <th>2012-12-13</th>\n",
       "      <td>11.52</td>\n",
       "      <td>11.56</td>\n",
       "      <td>11.43</td>\n",
       "      <td>11.47</td>\n",
       "      <td>31099900.0</td>\n",
       "      <td>9.441433</td>\n",
       "    </tr>\n",
       "    <tr>\n",
       "      <th>2012-12-14</th>\n",
       "      <td>11.46</td>\n",
       "      <td>11.50</td>\n",
       "      <td>11.21</td>\n",
       "      <td>11.27</td>\n",
       "      <td>35443200.0</td>\n",
       "      <td>9.276805</td>\n",
       "    </tr>\n",
       "    <tr>\n",
       "      <th>2012-12-17</th>\n",
       "      <td>11.27</td>\n",
       "      <td>11.27</td>\n",
       "      <td>11.03</td>\n",
       "      <td>11.10</td>\n",
       "      <td>36933500.0</td>\n",
       "      <td>9.136870</td>\n",
       "    </tr>\n",
       "    <tr>\n",
       "      <th>2012-12-18</th>\n",
       "      <td>11.16</td>\n",
       "      <td>11.41</td>\n",
       "      <td>11.14</td>\n",
       "      <td>11.39</td>\n",
       "      <td>46983300.0</td>\n",
       "      <td>9.375581</td>\n",
       "    </tr>\n",
       "    <tr>\n",
       "      <th>2012-12-19</th>\n",
       "      <td>11.48</td>\n",
       "      <td>11.68</td>\n",
       "      <td>11.40</td>\n",
       "      <td>11.67</td>\n",
       "      <td>61810400.0</td>\n",
       "      <td>9.606061</td>\n",
       "    </tr>\n",
       "    <tr>\n",
       "      <th>2012-12-20</th>\n",
       "      <td>11.79</td>\n",
       "      <td>11.85</td>\n",
       "      <td>11.62</td>\n",
       "      <td>11.73</td>\n",
       "      <td>54884700.0</td>\n",
       "      <td>9.655449</td>\n",
       "    </tr>\n",
       "    <tr>\n",
       "      <th>2012-12-21</th>\n",
       "      <td>11.74</td>\n",
       "      <td>11.80</td>\n",
       "      <td>11.58</td>\n",
       "      <td>11.77</td>\n",
       "      <td>47750100.0</td>\n",
       "      <td>9.688375</td>\n",
       "    </tr>\n",
       "    <tr>\n",
       "      <th>2012-12-24</th>\n",
       "      <td>11.55</td>\n",
       "      <td>11.86</td>\n",
       "      <td>11.47</td>\n",
       "      <td>11.86</td>\n",
       "      <td>94489300.0</td>\n",
       "      <td>9.762457</td>\n",
       "    </tr>\n",
       "    <tr>\n",
       "      <th>2012-12-26</th>\n",
       "      <td>11.67</td>\n",
       "      <td>12.40</td>\n",
       "      <td>11.67</td>\n",
       "      <td>12.40</td>\n",
       "      <td>91734900.0</td>\n",
       "      <td>10.206954</td>\n",
       "    </tr>\n",
       "    <tr>\n",
       "      <th>2012-12-27</th>\n",
       "      <td>12.31</td>\n",
       "      <td>12.79</td>\n",
       "      <td>12.31</td>\n",
       "      <td>12.79</td>\n",
       "      <td>140331900.0</td>\n",
       "      <td>10.527979</td>\n",
       "    </tr>\n",
       "    <tr>\n",
       "      <th>2012-12-28</th>\n",
       "      <td>12.79</td>\n",
       "      <td>12.81</td>\n",
       "      <td>12.36</td>\n",
       "      <td>12.76</td>\n",
       "      <td>108315100.0</td>\n",
       "      <td>10.503285</td>\n",
       "    </tr>\n",
       "    <tr>\n",
       "      <th>2012-12-31</th>\n",
       "      <td>12.55</td>\n",
       "      <td>12.88</td>\n",
       "      <td>12.52</td>\n",
       "      <td>12.87</td>\n",
       "      <td>95668600.0</td>\n",
       "      <td>10.593830</td>\n",
       "    </tr>\n",
       "    <tr>\n",
       "      <th>2013-01-02</th>\n",
       "      <td>12.88</td>\n",
       "      <td>13.08</td>\n",
       "      <td>12.76</td>\n",
       "      <td>12.95</td>\n",
       "      <td>106908900.0</td>\n",
       "      <td>10.659682</td>\n",
       "    </tr>\n",
       "    <tr>\n",
       "      <th>2013-01-03</th>\n",
       "      <td>13.23</td>\n",
       "      <td>13.28</td>\n",
       "      <td>13.00</td>\n",
       "      <td>13.20</td>\n",
       "      <td>75274700.0</td>\n",
       "      <td>10.865467</td>\n",
       "    </tr>\n",
       "    <tr>\n",
       "      <th>2013-01-04</th>\n",
       "      <td>13.24</td>\n",
       "      <td>13.70</td>\n",
       "      <td>13.05</td>\n",
       "      <td>13.46</td>\n",
       "      <td>121284700.0</td>\n",
       "      <td>11.079484</td>\n",
       "    </tr>\n",
       "    <tr>\n",
       "      <th>2013-01-07</th>\n",
       "      <td>13.51</td>\n",
       "      <td>13.61</td>\n",
       "      <td>13.35</td>\n",
       "      <td>13.57</td>\n",
       "      <td>54669900.0</td>\n",
       "      <td>11.170029</td>\n",
       "    </tr>\n",
       "    <tr>\n",
       "      <th>2013-01-08</th>\n",
       "      <td>13.52</td>\n",
       "      <td>13.58</td>\n",
       "      <td>13.35</td>\n",
       "      <td>13.43</td>\n",
       "      <td>43482400.0</td>\n",
       "      <td>11.054790</td>\n",
       "    </tr>\n",
       "    <tr>\n",
       "      <th>2013-01-09</th>\n",
       "      <td>13.38</td>\n",
       "      <td>13.43</td>\n",
       "      <td>13.20</td>\n",
       "      <td>13.35</td>\n",
       "      <td>46336200.0</td>\n",
       "      <td>10.988939</td>\n",
       "    </tr>\n",
       "    <tr>\n",
       "      <th>2013-01-10</th>\n",
       "      <td>13.40</td>\n",
       "      <td>13.60</td>\n",
       "      <td>13.39</td>\n",
       "      <td>13.47</td>\n",
       "      <td>36973900.0</td>\n",
       "      <td>11.087716</td>\n",
       "    </tr>\n",
       "    <tr>\n",
       "      <th>2013-01-11</th>\n",
       "      <td>13.78</td>\n",
       "      <td>13.94</td>\n",
       "      <td>13.68</td>\n",
       "      <td>13.83</td>\n",
       "      <td>84884300.0</td>\n",
       "      <td>11.384046</td>\n",
       "    </tr>\n",
       "    <tr>\n",
       "      <th>2013-01-14</th>\n",
       "      <td>14.00</td>\n",
       "      <td>14.07</td>\n",
       "      <td>13.90</td>\n",
       "      <td>14.00</td>\n",
       "      <td>67641200.0</td>\n",
       "      <td>11.523980</td>\n",
       "    </tr>\n",
       "    <tr>\n",
       "      <th>2013-01-15</th>\n",
       "      <td>14.04</td>\n",
       "      <td>14.08</td>\n",
       "      <td>13.86</td>\n",
       "      <td>13.99</td>\n",
       "      <td>46224800.0</td>\n",
       "      <td>11.515749</td>\n",
       "    </tr>\n",
       "    <tr>\n",
       "      <th>2013-01-16</th>\n",
       "      <td>13.91</td>\n",
       "      <td>14.30</td>\n",
       "      <td>13.89</td>\n",
       "      <td>14.30</td>\n",
       "      <td>55425000.0</td>\n",
       "      <td>11.770923</td>\n",
       "    </tr>\n",
       "    <tr>\n",
       "      <th>2013-01-17</th>\n",
       "      <td>14.16</td>\n",
       "      <td>14.25</td>\n",
       "      <td>14.01</td>\n",
       "      <td>14.22</td>\n",
       "      <td>51453400.0</td>\n",
       "      <td>11.705072</td>\n",
       "    </tr>\n",
       "    <tr>\n",
       "      <th>2013-01-18</th>\n",
       "      <td>14.27</td>\n",
       "      <td>14.30</td>\n",
       "      <td>14.07</td>\n",
       "      <td>14.22</td>\n",
       "      <td>44299300.0</td>\n",
       "      <td>11.705072</td>\n",
       "    </tr>\n",
       "    <tr>\n",
       "      <th>2013-01-22</th>\n",
       "      <td>14.10</td>\n",
       "      <td>14.13</td>\n",
       "      <td>13.97</td>\n",
       "      <td>14.11</td>\n",
       "      <td>45716100.0</td>\n",
       "      <td>11.614526</td>\n",
       "    </tr>\n",
       "    <tr>\n",
       "      <th>2013-01-23</th>\n",
       "      <td>14.06</td>\n",
       "      <td>14.19</td>\n",
       "      <td>14.00</td>\n",
       "      <td>14.17</td>\n",
       "      <td>35467900.0</td>\n",
       "      <td>11.663914</td>\n",
       "    </tr>\n",
       "    <tr>\n",
       "      <th>2013-01-24</th>\n",
       "      <td>14.00</td>\n",
       "      <td>14.02</td>\n",
       "      <td>13.79</td>\n",
       "      <td>13.88</td>\n",
       "      <td>58122200.0</td>\n",
       "      <td>11.425203</td>\n",
       "    </tr>\n",
       "    <tr>\n",
       "      <th>2013-01-25</th>\n",
       "      <td>13.82</td>\n",
       "      <td>13.98</td>\n",
       "      <td>13.81</td>\n",
       "      <td>13.87</td>\n",
       "      <td>42532700.0</td>\n",
       "      <td>11.416972</td>\n",
       "    </tr>\n",
       "  </tbody>\n",
       "</table>\n",
       "<p>771 rows × 6 columns</p>\n",
       "</div>"
      ],
      "text/plain": [
       "             Open   High    Low  Close       Volume  Adj Close\n",
       "Date                                                          \n",
       "2010-01-04    NaN    NaN    NaN    NaN          NaN        NaN\n",
       "2010-01-05  10.17  10.28  10.05  10.28   60855800.0   8.306784\n",
       "2010-01-06  10.45  11.24  10.40  10.96  215620200.0   8.856260\n",
       "2010-01-07  11.21  11.46  11.13  11.37  200070600.0   9.187561\n",
       "2010-01-08  11.46  11.69  11.32  11.66  130201700.0   9.421897\n",
       "2010-01-11  11.67  11.74  11.46  11.69  130463000.0   9.446138\n",
       "2010-01-12  11.90  12.14  11.78  12.11  170626200.0   9.785520\n",
       "2010-01-13  11.98  12.03  11.72  11.87  162995900.0   9.591588\n",
       "2010-01-14  11.91  11.93  11.47  11.68  154527100.0   9.438058\n",
       "2010-01-15  11.65  11.86  11.51  11.76  116531200.0   9.502702\n",
       "2010-01-19  11.74  11.76  11.55  11.60   96149800.0   9.373414\n",
       "2010-01-20  11.51  11.83  11.46  11.75   65934000.0   9.494622\n",
       "2010-01-21  11.68  11.69  11.50  11.51   71649500.0   9.300689\n",
       "2010-01-22  11.53  11.62  11.01  11.18  121451400.0   9.034032\n",
       "2010-01-25  11.01  11.12  10.41  10.52  161530100.0   8.500717\n",
       "2010-01-26  10.73  11.10  10.61  11.03  121621500.0   8.912823\n",
       "2010-01-27  11.17  11.46  11.07  11.19  108250500.0   9.042112\n",
       "2010-01-28  11.57  11.62  11.22  11.55  105091600.0   9.333011\n",
       "2010-01-29  11.90  11.95  11.27  11.41  203320000.0   9.219883\n",
       "2010-02-01  11.60  11.61  10.70  10.84  159741200.0   8.759294\n",
       "2010-02-02  11.14  11.18  10.93  11.12   82748200.0   8.985548\n",
       "2010-02-03  11.26  11.52  11.19  11.39  119714900.0   9.203723\n",
       "2010-02-04  11.49  11.66  11.42  11.64   90125500.0   9.405736\n",
       "2010-02-05  11.49  11.53  11.00  11.06  129792200.0   8.937065\n",
       "2010-02-08  10.97  11.11  10.49  10.91  181535200.0   8.815857\n",
       "2010-02-09  11.09  11.32  10.88  10.97   92031400.0   8.864341\n",
       "2010-02-10  11.18  11.22  11.02  11.15   83207100.0   9.009789\n",
       "2010-02-11  11.12  11.14  10.90  10.94   73395600.0   8.840098\n",
       "2010-02-12  11.00  11.19  10.88  11.18   65116200.0   9.034032\n",
       "2010-02-16  10.92  11.18  10.85  11.12   69465400.0   8.985548\n",
       "...           ...    ...    ...    ...          ...        ...\n",
       "2012-12-12  11.51  11.58  11.40  11.49   36326900.0   9.457895\n",
       "2012-12-13  11.52  11.56  11.43  11.47   31099900.0   9.441433\n",
       "2012-12-14  11.46  11.50  11.21  11.27   35443200.0   9.276805\n",
       "2012-12-17  11.27  11.27  11.03  11.10   36933500.0   9.136870\n",
       "2012-12-18  11.16  11.41  11.14  11.39   46983300.0   9.375581\n",
       "2012-12-19  11.48  11.68  11.40  11.67   61810400.0   9.606061\n",
       "2012-12-20  11.79  11.85  11.62  11.73   54884700.0   9.655449\n",
       "2012-12-21  11.74  11.80  11.58  11.77   47750100.0   9.688375\n",
       "2012-12-24  11.55  11.86  11.47  11.86   94489300.0   9.762457\n",
       "2012-12-26  11.67  12.40  11.67  12.40   91734900.0  10.206954\n",
       "2012-12-27  12.31  12.79  12.31  12.79  140331900.0  10.527979\n",
       "2012-12-28  12.79  12.81  12.36  12.76  108315100.0  10.503285\n",
       "2012-12-31  12.55  12.88  12.52  12.87   95668600.0  10.593830\n",
       "2013-01-02  12.88  13.08  12.76  12.95  106908900.0  10.659682\n",
       "2013-01-03  13.23  13.28  13.00  13.20   75274700.0  10.865467\n",
       "2013-01-04  13.24  13.70  13.05  13.46  121284700.0  11.079484\n",
       "2013-01-07  13.51  13.61  13.35  13.57   54669900.0  11.170029\n",
       "2013-01-08  13.52  13.58  13.35  13.43   43482400.0  11.054790\n",
       "2013-01-09  13.38  13.43  13.20  13.35   46336200.0  10.988939\n",
       "2013-01-10  13.40  13.60  13.39  13.47   36973900.0  11.087716\n",
       "2013-01-11  13.78  13.94  13.68  13.83   84884300.0  11.384046\n",
       "2013-01-14  14.00  14.07  13.90  14.00   67641200.0  11.523980\n",
       "2013-01-15  14.04  14.08  13.86  13.99   46224800.0  11.515749\n",
       "2013-01-16  13.91  14.30  13.89  14.30   55425000.0  11.770923\n",
       "2013-01-17  14.16  14.25  14.01  14.22   51453400.0  11.705072\n",
       "2013-01-18  14.27  14.30  14.07  14.22   44299300.0  11.705072\n",
       "2013-01-22  14.10  14.13  13.97  14.11   45716100.0  11.614526\n",
       "2013-01-23  14.06  14.19  14.00  14.17   35467900.0  11.663914\n",
       "2013-01-24  14.00  14.02  13.79  13.88   58122200.0  11.425203\n",
       "2013-01-25  13.82  13.98  13.81  13.87   42532700.0  11.416972\n",
       "\n",
       "[771 rows x 6 columns]"
      ]
     },
     "execution_count": 26,
     "metadata": {},
     "output_type": "execute_result"
    }
   ],
   "source": [
    "lagged = f.shift(1)\n",
    "lagged"
   ]
  },
  {
   "cell_type": "code",
   "execution_count": 29,
   "metadata": {
    "collapsed": false,
    "scrolled": true
   },
   "outputs": [
    {
     "data": {
      "text/plain": [
       "384"
      ]
     },
     "execution_count": 29,
     "metadata": {},
     "output_type": "execute_result"
    }
   ],
   "source": [
    "sum((f-lagged)['Open']>0)"
   ]
  },
  {
   "cell_type": "code",
   "execution_count": 30,
   "metadata": {
    "collapsed": true
   },
   "outputs": [],
   "source": [
    "f['DayGain']=f['Open']-lagged['Open']"
   ]
  },
  {
   "cell_type": "code",
   "execution_count": 34,
   "metadata": {
    "collapsed": false
   },
   "outputs": [
    {
     "data": {
      "text/plain": [
       "0.49805447470817121"
      ]
     },
     "execution_count": 34,
     "metadata": {},
     "output_type": "execute_result"
    }
   ],
   "source": [
    "sum(f['DayGain']>0)/len(f['DayGain'])"
   ]
  },
  {
   "cell_type": "code",
   "execution_count": null,
   "metadata": {
    "collapsed": false,
    "deletable": true,
    "editable": true
   },
   "outputs": [],
   "source": []
  },
  {
   "cell_type": "markdown",
   "metadata": {
    "deletable": true,
    "editable": true
   },
   "source": [
    "### And did the 'up' days become more or less frequent over time?"
   ]
  },
  {
   "cell_type": "code",
   "execution_count": null,
   "metadata": {
    "collapsed": false,
    "deletable": true,
    "editable": true
   },
   "outputs": [],
   "source": [
    "# %load snippets/prac5.py\n",
    "f.rolling(window = 25)['DayGain'].apply(lambda x: len([x_i for x_i in x if x_i > 0])/len(x)).plot()"
   ]
  },
  {
   "cell_type": "markdown",
   "metadata": {
    "deletable": true,
    "editable": true
   },
   "source": [
    "### Compute and plot the mean monthly High value of the stock"
   ]
  },
  {
   "cell_type": "code",
   "execution_count": 43,
   "metadata": {
    "collapsed": false
   },
   "outputs": [
    {
     "data": {
      "text/plain": [
       "<matplotlib.axes._subplots.AxesSubplot at 0x11d0cebe0>"
      ]
     },
     "execution_count": 43,
     "metadata": {},
     "output_type": "execute_result"
    },
    {
     "data": {
      "image/png": "[encoded data removed]",
      "text/plain": [
       "<matplotlib.figure.Figure at 0x11d384358>"
      ]
     },
     "metadata": {},
     "output_type": "display_data"
    }
   ],
   "source": [
    "f['High'].resample('M').mean().plot()"
   ]
  },
  {
   "cell_type": "markdown",
   "metadata": {
    "deletable": true,
    "editable": true
   },
   "source": [
    "### Explore the variance of the differenced volume"
   ]
  },
  {
   "cell_type": "code",
   "execution_count": 46,
   "metadata": {
    "collapsed": true
   },
   "outputs": [],
   "source": [
    "f['Difference']=f['Open']-f['Close']"
   ]
  },
  {
   "cell_type": "code",
   "execution_count": 47,
   "metadata": {
    "collapsed": false
   },
   "outputs": [
    {
     "data": {
      "text/plain": [
       "<matplotlib.axes._subplots.AxesSubplot at 0x11d576748>"
      ]
     },
     "execution_count": 47,
     "metadata": {},
     "output_type": "execute_result"
    },
    {
     "data": {
      "image/png": "[encoded data removed]",
      "text/plain": [
       "<matplotlib.figure.Figure at 0x11d6c4e80>"
      ]
     },
     "metadata": {},
     "output_type": "display_data"
    }
   ],
   "source": [
    "f.rolling(50).var()['Difference'].plot()"
   ]
  },
  {
   "cell_type": "code",
   "execution_count": null,
   "metadata": {
    "collapsed": false,
    "deletable": true,
    "editable": true
   },
   "outputs": [],
   "source": [
    "# %load snippets/prac7.py\n",
    "volume = f.Volume\n",
    "volume_lagged = f.Volume.shift()\n",
    "diffed_volume = volume - volume_lagged\n",
    "diffed_volume.rolling(window = 20).var().plot()"
   ]
  },
  {
   "cell_type": "markdown",
   "metadata": {
    "deletable": true,
    "editable": true
   },
   "source": [
    "### Does the lagged time series correlate with itself?"
   ]
  },
  {
   "cell_type": "code",
   "execution_count": 50,
   "metadata": {
    "collapsed": false,
    "deletable": true,
    "editable": true
   },
   "outputs": [
    {
     "data": {
      "text/html": [
       "<div>\n",
       "<table border=\"1\" class=\"dataframe\">\n",
       "  <thead>\n",
       "    <tr style=\"text-align: right;\">\n",
       "      <th></th>\n",
       "      <th>lagged</th>\n",
       "      <th>real</th>\n",
       "    </tr>\n",
       "  </thead>\n",
       "  <tbody>\n",
       "    <tr>\n",
       "      <th>lagged</th>\n",
       "      <td>1.000000</td>\n",
       "      <td>0.656441</td>\n",
       "    </tr>\n",
       "    <tr>\n",
       "      <th>real</th>\n",
       "      <td>0.656441</td>\n",
       "      <td>1.000000</td>\n",
       "    </tr>\n",
       "  </tbody>\n",
       "</table>\n",
       "</div>"
      ],
      "text/plain": [
       "          lagged      real\n",
       "lagged  1.000000  0.656441\n",
       "real    0.656441  1.000000"
      ]
     },
     "execution_count": 50,
     "metadata": {},
     "output_type": "execute_result"
    }
   ],
   "source": [
    "# %load snippets/prac8.py\n",
    "pd.DataFrame({'real':f.Volume, 'lagged':f.Volume.shift()}).corr()"
   ]
  },
  {
   "cell_type": "code",
   "execution_count": null,
   "metadata": {
    "collapsed": true,
    "deletable": true,
    "editable": true
   },
   "outputs": [],
   "source": []
  }
 ],
 "metadata": {
  "kernelspec": {
   "display_name": "Python 3",
   "language": "python",
   "name": "python3"
  },
  "language_info": {
   "codemirror_mode": {
    "name": "ipython",
    "version": 3
   },
   "file_extension": ".py",
   "mimetype": "text/x-python",
   "name": "python",
   "nbconvert_exporter": "python",
   "pygments_lexer": "ipython3",
   "version": "3.6.0"
  }
 },
 "nbformat": 4,
 "nbformat_minor": 0
}
